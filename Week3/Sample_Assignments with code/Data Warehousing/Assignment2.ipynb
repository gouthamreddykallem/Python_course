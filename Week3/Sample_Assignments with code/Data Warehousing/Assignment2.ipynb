{
 "cells": [
  {
   "cell_type": "markdown",
   "metadata": {
    "deletable": false,
    "editable": false,
    "pycharm": {
     "name": "#%% md\n"
    }
   },
   "source": [
    "<h1><strong>CSCI 5455&ndash; Fall 2022</strong></h1>\n",
    "\n",
    "<h2><strong>Assignment 2 - Data Warehousing & OLAP</strong></h2>\n",
    "\n",
    "<h3><strong><span style=\"color:#cc3300;\">Due: October 24, 08:59pm </span></strong></h3>\n",
    "\n",
    "<h3><strong>Your name:</strong></h3>"
   ]
  },
  {
   "cell_type": "markdown",
   "metadata": {
    "deletable": false,
    "editable": false,
    "pycharm": {
     "name": "#%% md\n"
    }
   },
   "source": [
    "<ul>\n",
    "<li style=\"text-align: justify;\">Please note that you must do this assignment&nbsp;<span style=\"color: #cc3300;\"><strong><u>individually</u></strong></span>. Using automatic tools, your code will be checked against other submissions and other existing resources (such as websites and books).</li>\n",
    "<li style=\"text-align: justify;\">This assignment is more extensive and might take longer than previous assignments to finish. <span style=\"color: #339966;\"><strong><u>Please start early on.</u></strong></span></li>\n",
    "<li style=\"text-align: justify;\">Review the lecture notes before starting with this assignment. Then, thoroughly read this document before starting with the implementation or thinking about the solution.</li>\n",
    "<li style=\"text-align: justify;\">If you have technical questions about Python, please Google the error messages and share the error message alongside the solution that got it fixed on Microsoft Teams, as your classmates may run into the same issues.</li>\n",
    "<li style=\"text-align: justify;\">Check Canvas regularly for possible clarifications and updates.</li>\n",
    "<li style=\"text-align: justify;\">In this assignment, you will design and implement a data warehouse from scratch and use the data warehouse to answer some analytical decision-making questions.</li>\n",
    "</ul>\n"
   ]
  },
  {
   "cell_type": "markdown",
   "metadata": {
    "deletable": false,
    "editable": false,
    "pycharm": {
     "name": "#%% md\n"
    }
   },
   "source": [
    "<h2>Dataset</h2>\n",
    "\n",
    "<p style=\"text-align: justify;\">The dataset for this assignment can be found on this <a href=\"https://www.kaggle.com/rounakbanik/the-movies-dataset\">Kaggle link.</a>\n",
    "Please read the data described on this page. We have also uploaded a copy of the data archive in Canvas for your reference. <br>\n",
    "    \n",
    "After you download and extract the archive, you should be able to find the following CSV files:\n",
    "</p>\n",
    "\n",
    "<img src=\"Files.png\">"
   ]
  },
  {
   "cell_type": "markdown",
   "metadata": {
    "deletable": false,
    "editable": false,
    "pycharm": {
     "name": "#%% md\n"
    }
   },
   "source": [
    "<h2>Implementation</h2>\n",
    "\n",
    "<p style=\"text-align: justify;\">Consider yourself as a data scientist employee of a tech company. One day your boss gives you the above dataset and asks you to design and implement a data warehouse model for the company. Your data warehouse should enable efficient answering of the following queries:<br>\n",
    "    \n",
    "<ol>\n",
    "<li><strong>Details of the Production Company:</strong></li>\n",
    "</ol>\n",
    "<ul>\n",
    "<li style=\"list-style-type: none;\">\n",
    "<ul style=\"list-style-type: square;\">\n",
    "<li>Revenue per year (rpy.csv)</li>\n",
    "<li>Budget per year (bpy.csv)</li>\n",
    "<li>Profit per year (ppy.csv)</li>\n",
    "<li>Average popularity of the produced movies per year (apy.csv)</li>\n",
    "<li>Releases by genre per year (rgpy.csv)</li>\n",
    "</ul>\n",
    "</li>\n",
    "</ul>\n",
    "<ol start=\"2\">\n",
    "<li><strong>Movie Genre Details:</strong></li>\n",
    "</ol>\n",
    "<ul>\n",
    "<li style=\"list-style-type: none;\">\n",
    "<ul style=\"list-style-type: square;\">\n",
    "<li>Revenue by genre per year (regpy.csv)</li>\n",
    "<li>Budget by genre per year (bgpy.csv)</li>\n",
    "<li>Profit by genre per year (pgpy.csv)</li>\n",
    "<li>Most popular genre by year (mpgy.csv)</li>\n",
    "</ul>\n",
    "</li>\n",
    "</ul>\n",
    "</p>"
   ]
  },
  {
   "cell_type": "markdown",
   "metadata": {
    "deletable": false,
    "pycharm": {
     "name": "#%% md\n"
    }
   },
   "source": [
    "<h2>Question 1 (20 points)</h2>\n",
    "\n",
    "<p style=\"text-align: justify;\">Prepare and submit your design of the <strong>Fact Constellations</strong> data warehouse schema.\n",
    "\n",
    "Note: You can insert your answer as a picture. if that's the case, make sure to submit a single zip file consisting this notebook and the picture file together.\n",
    "</p>"
   ]
  },
  {
   "cell_type": "markdown",
   "metadata": {
    "pycharm": {
     "name": "#%% md\n"
    }
   },
   "source": [
    "<p><span style=\"color: #ff0000;\"><strong>-- Write your answer here --</strong></span></p>\n",
    "\n",
    "\n",
    "<img src=\"Fact_Constellations.jpeg\" width=\"600\" \n",
    "     height=\"400\">"
   ]
  },
  {
   "cell_type": "markdown",
   "metadata": {
    "deletable": false,
    "pycharm": {
     "name": "#%% md\n"
    }
   },
   "source": [
    "<h2>Question 2 (30 points)</h2>\n",
    "\n",
    "<p style=\"text-align: justify;\">Implement a database to store your data warehouse based on your design.</p>\n",
    "\n",
    "<p style=\"text-align: justify;\">Your code should take the movies_metadata.csv path from the user to populate the database</p>\n",
    "\n",
    "<p style=\"text-align: justify;\"><strong>Hint1:</strong> You will need to design a database for this part of the assignment. You can use <strong>Pandas Dataframe</strong>.</p>\n",
    "\n",
    "<p style=\"text-align: justify;\"><strong>Hint 2:</strong> Some of the items, like the genre column, have been stored as a list of dictionaries. You can use the <a href=\"https://www.geeksforgeeks.org/read-json-file-using-python/\">“json.loads()”</a> and <a href=\"https://www.kite.com/python/docs/ast.literal_eval\">“ast.literal_eval()”</a>  functions from json and ast libraries, respectively, to parse through these types of columns quickly."
   ]
  },
  {
   "cell_type": "code",
   "execution_count": 1,
   "metadata": {
    "pycharm": {
     "name": "#%%\n"
    }
   },
   "outputs": [
    {
     "name": "stdout",
     "output_type": "stream",
     "text": [
      "Revenue Table\n",
      "   movie_id      revenue      budget  year\n",
      "0       862  373554033.0  30000000.0  1995\n",
      "1      8844  262797249.0  65000000.0  1995\n",
      "2     15602          0.0         0.0  1995\n",
      "3     31357   81452156.0  16000000.0  1995\n",
      "4     11862   76578911.0         0.0  1995\n",
      "Series([], dtype: object)\n",
      "Movie Table\n",
      "   movie_id                   movie_name\n",
      "0       862                    Toy Story\n",
      "1      8844                      Jumanji\n",
      "2     15602             Grumpier Old Men\n",
      "3     31357            Waiting to Exhale\n",
      "4     11862  Father of the Bride Part II\n",
      "Gener Table\n",
      "   gener_id gener_name\n",
      "0        16  Animation\n",
      "1        35     Comedy\n",
      "2     10751     Family\n",
      "3        12  Adventure\n",
      "4        14    Fantasy\n",
      "Production Table\n",
      "   production_company_id    production_company_name\n",
      "0                      3    Pixar Animation Studios\n",
      "1                    559           TriStar Pictures\n",
      "2                   2550               Teitler Film\n",
      "3                  10201  Interscope Communications\n",
      "4                   6194               Warner Bros.\n",
      "Popularity Table\n",
      "   movie_id  popularity           geners production_companies\n",
      "0       862   21.946943  [16, 35, 10751]                  [3]\n",
      "1      8844   17.015539  [12, 14, 10751]   [559, 2550, 10201]\n",
      "2     15602   11.712900      [10749, 35]        [6194, 19464]\n",
      "3     31357    3.859495  [35, 18, 10749]                [306]\n",
      "4     11862    8.387519             [35]         [5842, 9195]\n",
      "Links Table\n",
      "   movie_id  imdb_id\n",
      "0         1   114709\n",
      "1         2   113497\n",
      "2         3   113228\n",
      "3         4   114885\n",
      "4         5   113041\n",
      "Ratings Table\n",
      "   movie_id  ratings\n",
      "0        31      2.5\n",
      "1      1029      3.0\n",
      "2      1061      3.0\n",
      "3      1129      2.0\n",
      "4      1172      4.0\n"
     ]
    }
   ],
   "source": [
    "import pandas as pd\n",
    "import numpy as np\n",
    "import math\n",
    "import warnings\n",
    "import ast\n",
    "warnings.filterwarnings('ignore')\n",
    "# write your code here\n",
    "movies_metadata_path = r'./dataset/movies_metadata.csv'\n",
    "links_path = r'./dataset/links_small.csv'\n",
    "ratings_path = r'./dataset/ratings_small.csv'\n",
    "metaDataframe = pd.read_csv(movies_metadata_path)\n",
    "linksDataframe = pd.read_csv(links_path)\n",
    "ratingsDataframe = pd.read_csv(ratings_path)\n",
    "# metaDataframe.head(10)\n",
    "# print(metaDataframe.columns)\n",
    "\n",
    "\n",
    "\n",
    "gener = pd.DataFrame()\n",
    "production = pd.DataFrame()\n",
    "\n",
    "revenue = pd.DataFrame()\n",
    "revenue['movie_id'] = metaDataframe['id']\n",
    "revenue['revenue'] = metaDataframe['revenue']\n",
    "revenue['budget'] = metaDataframe['budget']\n",
    "# revenue = revenue.apply(lambda col:pd.to_numeric(col, errors='coerce'))\n",
    "\n",
    "movie = pd.DataFrame()\n",
    "movie['movie_id'] = metaDataframe['id']\n",
    "movie['movie_name'] = metaDataframe['original_title']\n",
    "\n",
    "popularity = pd.DataFrame()\n",
    "popularity['movie_id'] = metaDataframe['id']\n",
    "popularity['popularity'] = metaDataframe['popularity']\n",
    "\n",
    "linksDataFrame = pd.DataFrame()\n",
    "\n",
    "linksDataFrame['movie_id'] = linksDataframe['movieId']\n",
    "linksDataFrame['imdb_id'] = linksDataframe['imdbId']\n",
    "\n",
    "ratingsDataFrame = pd.DataFrame()\n",
    "\n",
    "ratingsDataFrame['movie_id'] = ratingsDataframe['movieId']\n",
    "ratingsDataFrame['ratings'] = ratingsDataframe['rating']\n",
    "\n",
    "# gener['gener_id']\n",
    "generDict={}\n",
    "productionDict={}\n",
    "\n",
    "for i, data in metaDataframe.iterrows():\n",
    "#     Pre processing the meta data to generate the tables\n",
    "    listOfGenerIds = []\n",
    "    listOfProductionIds = []\n",
    "    revenue.at[i,'year']=str(data.release_date)[0:4]\n",
    "    if(type(data.genres)== str):\n",
    "        genresList = ast.literal_eval(data.genres)\n",
    "    if(type(data.production_companies)== str):\n",
    "        productionList = ast.literal_eval((data.production_companies))\n",
    "    for g in genresList:\n",
    "        listOfGenerIds.append(g.get('id'))\n",
    "        if(g.get('id') not in generDict):\n",
    "            generDict[g.get('id')]=g.get('name')\n",
    "    popularity.at[i,'geners']=str(listOfGenerIds)\n",
    "    for g in productionList:\n",
    "        listOfProductionIds.append(g.get('id'))\n",
    "        if(g.get('id') not in productionDict):\n",
    "            productionDict[g.get('id')]=g.get('name')\n",
    "    popularity.at[i,'production_companies']=str(listOfProductionIds)\n",
    "   \n",
    "    \n",
    "    \n",
    "from ast import literal_eval\n",
    "revenue = revenue.astype({'revenue': 'float64','budget': 'float64'})\n",
    "print(\"Revenue Table\")\n",
    "print(revenue.head())\n",
    "print(production.dtypes)\n",
    "print(\"Movie Table\")\n",
    "print(movie.head())\n",
    "gener = pd.DataFrame.from_dict({'gener_id':generDict.keys(),'gener_name':generDict.values()})\n",
    "production = pd.DataFrame.from_dict({'production_company_id':productionDict.keys(),'production_company_name':productionDict.values()})\n",
    "print(\"Gener Table\")\n",
    "print(gener.head())\n",
    "print(\"Production Table\")\n",
    "print(production.head())\n",
    "print(\"Popularity Table\")\n",
    "popularity.geners = popularity.geners.apply(literal_eval)\n",
    "popularity.production_companies = popularity.production_companies.apply(literal_eval)\n",
    "print(popularity.head())\n",
    "print(\"Links Table\")\n",
    "print(linksDataFrame.head())\n",
    "print(\"Ratings Table\")\n",
    "print(ratingsDataFrame.head())\n",
    "# print(popularity.dtypes)"
   ]
  },
  {
   "cell_type": "markdown",
   "metadata": {
    "deletable": false,
    "pycharm": {
     "name": "#%% md\n"
    }
   },
   "source": [
    "<h2>Question 3 (25 points)</h2>\n",
    "\n",
    "<p style=\"text-align: justify;\">Write and implement queries to answer all queries mentioned above under the \"Implementation\" Section on Details of the Production Company and Move Genre Details. Your function should write the results of the aforementioned queries in separate CSV files using the provided file names, respectively. Here are some samples of outputs (numbers and names are hypothetical).\n",
    "\n",
    "<img src=\"output_sample_b.png\" width=\"600\" \n",
    "     height=\"400\">\n",
    "    \n",
    "<img src=\"output_sample_r.png\" width=\"600\" \n",
    "     height=\"400\">\n",
    "    \n",
    "<img src=\"output_sample_p.png\" width=\"600\" \n",
    "     height=\"400\">\n",
    "\n",
    "<p style=\"text-align: justify;\">Make sure that you are using your designed database in Question 1 to answer these queries.</p>\n",
    "\n",
    "\n",
    "<p style=\"text-align: justify;\"><strong>Hint 3</strong>: Most of the data you need to answer the queries are in the “movies_metadata.csv” file. </p>\n"
   ]
  },
  {
   "cell_type": "code",
   "execution_count": 14,
   "metadata": {
    "pycharm": {
     "name": "#%%\n"
    },
    "scrolled": true
   },
   "outputs": [
    {
     "name": "stdout",
     "output_type": "stream",
     "text": [
      "Pixar Animation Studios: 3\n",
      "['1995' '1998' '1999' '2001' '2003' '2004' '1986' '2006' '2007' '2008'\n",
      " '2009' '2010' '2011' '2002' '2012' '2005' '1988' '1987' '1997' '1989'\n",
      " '2000' '2013' '2014' '1984' '2015' '2016' '2017']\n",
      "        Production Company  Year Sum of Budget\n",
      "0  Pixar Animation Studios  1995    30000000.0\n",
      "1  Pixar Animation Studios  1998   120000000.0\n",
      "2  Pixar Animation Studios  1999    90000000.0\n",
      "3  Pixar Animation Studios  2001   115000000.0\n",
      "4  Pixar Animation Studios  2003    94000000.0\n",
      "        Production Company  Year Sum of Revenue\n",
      "0  Pixar Animation Studios  1995    373554033.0\n",
      "1  Pixar Animation Studios  1998    363258859.0\n",
      "2  Pixar Animation Studios  1999    497366869.0\n",
      "3  Pixar Animation Studios  2001    562816256.0\n",
      "4  Pixar Animation Studios  2003    940335536.0\n",
      "        Production Company  Year Sum of Profit\n",
      "0  Pixar Animation Studios  1995   343554033.0\n",
      "1  Pixar Animation Studios  1998   243258859.0\n",
      "2  Pixar Animation Studios  1999   407366869.0\n",
      "3  Pixar Animation Studios  2001   447816256.0\n",
      "4  Pixar Animation Studios  2003   846335536.0\n",
      "        Production Company  Year Average Popularity\n",
      "0  Pixar Animation Studios  1995         30000000.0\n",
      "1  Pixar Animation Studios  1998        120000000.0\n",
      "2  Pixar Animation Studios  1999         90000000.0\n",
      "3  Pixar Animation Studios  2001        115000000.0\n",
      "4  Pixar Animation Studios  2003         47000000.0\n",
      "        Production Company  Year      Gener Releases\n",
      "0  Pixar Animation Studios  1995  Animation        1\n",
      "1  Pixar Animation Studios  1995     Comedy        1\n",
      "2  Pixar Animation Studios  1995     Family        1\n",
      "3  Pixar Animation Studios  1998  Animation        1\n",
      "4  Pixar Animation Studios  1998     Comedy        1\n",
      "Animation: 16\n",
      "['2004' '2003' '2008' '2011' '2012' '2013' '2014' '2010' '2016']\n",
      "       Gener  Year Sum of Budget\n",
      "0  Animation  2004     1400000.0\n",
      "1  Animation  2003           0.0\n",
      "2  Animation  2008           0.0\n",
      "3  Animation  2011           0.0\n",
      "4  Animation  2012      500000.0\n",
      "       Gener  Year Sum of Revenue\n",
      "0  Animation  2004            0.0\n",
      "1  Animation  2003            0.0\n",
      "2  Animation  2008            0.0\n",
      "3  Animation  2011            0.0\n",
      "4  Animation  2012       116207.0\n",
      "       Gener  Year Sum of Profit\n",
      "0  Animation  2004    -1400000.0\n",
      "1  Animation  2003           0.0\n",
      "2  Animation  2008           0.0\n",
      "3  Animation  2011           0.0\n",
      "4  Animation  2012     -383793.0\n",
      "       Gener  Year\n",
      "0    Western  2004\n",
      "1    Fantasy  2003\n",
      "2  Adventure  2008\n",
      "3  Adventure  2011\n",
      "4  Adventure  2012\n"
     ]
    }
   ],
   "source": [
    "def productionCompanySummary(productionCompanyId, productionCompanyName):\n",
    "    productionDf = pd.DataFrame(columns = ['movie_id', 'popularity', 'geners', 'revenue', 'budget', 'year'])\n",
    "    movieIds = []\n",
    "    for i, data in popularity.iterrows():\n",
    "        for j in data.production_companies:\n",
    "            if j == productionCompanyId:\n",
    "                movieIds.append([data.movie_id,data.popularity,data.geners])\n",
    "#     print(movieIds)\n",
    "#     revuneSum, budgetSum, profitSum, popularitySum, countOfMovies\n",
    "    for info in movieIds:\n",
    "        temp = revenue[revenue['movie_id']==info[0]]\n",
    "#         print(temp.iloc[0].revenue,temp.iloc[0].budget,temp.iloc[0].year)\n",
    "        productionDf = productionDf.append({'movie_id': info[0], 'popularity': info[1], 'geners': info[2], 'revenue': temp.iloc[0].revenue, 'budget': temp.iloc[0].budget, 'year': temp.iloc[0].year}, ignore_index = True)\n",
    "#     print(productionDf.head())\n",
    "    years = productionDf['year'].unique()\n",
    "    print(years)\n",
    "#     generIds = gener['gener_id'].tolist()\n",
    "# Creating the output dataframes.\n",
    "    bpy = pd.DataFrame(columns = ['Production Company', 'Year', 'Sum of Budget'])\n",
    "    rpy = pd.DataFrame(columns = ['Production Company', 'Year', 'Sum of Revenue'])\n",
    "    ppy = pd.DataFrame(columns = ['Production Company', 'Year', 'Sum of Profit'])\n",
    "    apy = pd.DataFrame(columns = ['Production Company', 'Year', 'Average Popularity'])\n",
    "    rgpy = pd.DataFrame(columns = ['Production Company', 'Year', 'Gener', 'Releases'])\n",
    "    for year in years:\n",
    "#         Run through all the years and calculate the required results.\n",
    "        temp = productionDf[productionDf['year']==year]\n",
    "        netBudget = temp['budget'].sum()\n",
    "        bpy = bpy.append({'Production Company': productionCompanyName,'Year': year,'Sum of Budget': netBudget}, ignore_index = True)\n",
    "        netRevenue = temp['revenue'].sum()\n",
    "        rpy = rpy.append({'Production Company': productionCompanyName,'Year': year,'Sum of Revenue': netRevenue}, ignore_index = True)\n",
    "        netProfit = netRevenue - netBudget\n",
    "#         print(\"netRevenue: {} netBudget: {}  netProfit: {}\",netRevenue,netBudget, netProfit)\n",
    "        ppy = ppy.append({'Production Company': productionCompanyName,'Year': year,'Sum of Profit': netProfit}, ignore_index = True)\n",
    "        avgPopularity = temp['budget'].mean()\n",
    "        apy = apy.append({'Production Company': productionCompanyName,'Year': year,'Average Popularity': avgPopularity}, ignore_index = True)\n",
    "        for i, generData in gener.iterrows():\n",
    "            count = 0\n",
    "            for j, data in temp.iterrows():\n",
    "                if generData.gener_id in data.geners:\n",
    "                    count += 1\n",
    "            if count != 0:\n",
    "                rgpy = rgpy.append({'Production Company': productionCompanyName,'Year': year,'Gener': generData.gener_name,'Releases': count}, ignore_index = True)\n",
    "    print(bpy.head())\n",
    "#     Writing the results to a file.\n",
    "    bpy.to_csv('bpy.csv', index=False)\n",
    "    print(rpy.head())\n",
    "    rpy.to_csv('rpy.csv', index=False)\n",
    "    print(ppy.head())\n",
    "    ppy.to_csv('ppy.csv', index=False)\n",
    "    print(apy.head())\n",
    "    apy.to_csv('apy.csv', index=False)\n",
    "    print(rgpy.head())\n",
    "    rgpy.to_csv('rgpy.csv', index=False)\n",
    "    \n",
    "def generSummary(generId, generName):\n",
    "    generDf = pd.DataFrame(columns = ['movie_id', 'popularity', 'revenue', 'budget', 'year'])\n",
    "    movieIds = []\n",
    "    for i, data in popularity.iterrows():\n",
    "        for j in data.production_companies:\n",
    "            if j == generId:\n",
    "                movieIds.append([data.movie_id,data.popularity])\n",
    "#     print(movieIds)\n",
    "#     revuneSum, budgetSum, profitSum, popularitySum, countOfMovies\n",
    "    for info in movieIds:\n",
    "        temp = revenue[revenue['movie_id']==info[0]]\n",
    "#         print(temp.iloc[0].revenue,temp.iloc[0].budget,temp.iloc[0].year)\n",
    "        generDf = generDf.append({'movie_id': info[0], 'popularity': info[1], 'revenue': temp.iloc[0].revenue, 'budget': temp.iloc[0].budget, 'year': temp.iloc[0].year}, ignore_index = True)\n",
    "#     print(generDf.head())\n",
    "    years = generDf['year'].unique()\n",
    "    print(years)\n",
    "    mgpy = pd.DataFrame(columns = ['Gener', 'Year'])\n",
    "    bgpy = pd.DataFrame(columns = ['Gener', 'Year', 'Sum of Budget'])\n",
    "    regpy = pd.DataFrame(columns = ['Gener', 'Year', 'Sum of Revenue'])\n",
    "    pgpy = pd.DataFrame(columns = ['Gener', 'Year', 'Sum of Profit'])\n",
    "    for year in years:\n",
    "        temp = generDf[generDf['year']==year]\n",
    "        netBudget = temp['budget'].sum()\n",
    "        bgpy = bgpy.append({'Gener': generName,'Year': year,'Sum of Budget': netBudget}, ignore_index = True)\n",
    "        netRevenue = temp['revenue'].sum()\n",
    "        regpy = regpy.append({'Gener': generName,'Year': year,'Sum of Revenue': netRevenue}, ignore_index = True)\n",
    "        netProfit = netRevenue - netBudget\n",
    "        pgpy = pgpy.append({'Gener': generName,'Year': year,'Sum of Profit': netProfit}, ignore_index = True)\n",
    "        temp = revenue[revenue['year']==year]\n",
    "        movies = temp['movie_id'].tolist()\n",
    "        generYear = []\n",
    "        for movie in movies:\n",
    "            temp = popularity[popularity['movie_id']==movie]\n",
    "            if not temp.empty:\n",
    "                generYear.append([temp.iloc[0].geners, temp.iloc[0].popularity])\n",
    "        popularGenerId = 0\n",
    "        popluarGenerName = ''\n",
    "        popularGener = 0.0\n",
    "        for i, generData in gener.iterrows():\n",
    "            popularityOfGener = []\n",
    "            for Obj in generYear:\n",
    "                if generData.gener_id in Obj[0]:\n",
    "                    popularityOfGener.append(Obj[1])\n",
    "            if popularityOfGener != []:\n",
    "                dump = sum(popularityOfGener)/len(popularityOfGener)\n",
    "                if popularGener < dump:\n",
    "                    popularGener = dump\n",
    "                    popularGenerId = generData.gener_id\n",
    "                    popluarGenerName = generData.gener_name\n",
    "    #     print(year, popluarGenerName)\n",
    "        mgpy = mgpy.append({'Gener': popluarGenerName,'Year': year}, ignore_index = True)\n",
    "#     years = ['1900', '1901', '1902', '1903', '1904', '1905', '1906', '1907', '1908', '1909', '1910', '1911', '1912', '1913', '1914', '1915', '1916', '1917', '1918', '1919', '1920', '1921', '1922', '1923', '1924', '1925', '1926', '1927', '1928', '1929', '1930', '1931', '1932', '1933', '1934', '1935', '1936', '1937', '1938', '1939', '1940', '1941', '1942', '1943', '1944', '1945', '1946', '1947', '1948', '1949', '1950', '1951', '1952', '1953', '1954', '1955', '1956', '1957', '1958', '1959', '1960', '1961', '1962', '1963', '1964', '1965', '1966', '1967', '1968', '1969', '1970', '1971', '1972', '1973', '1974', '1975', '1976', '1977', '1978', '1979', '1980', '1981', '1982', '1983', '1984', '1985', '1986', '1987', '1988', '1989', '1990', '1991', '1992', '1993', '1994', '1995', '1996', '1997', '1998', '1999', '2000', '2001', '2002', '2003', '2004', '2005', '2006', '2007', '2008', '2009', '2010', '2011', '2012', '2013', '2014', '2015', '2016', '2017', '2018', '2020']\n",
    "#     mgpy = pd.DataFrame(columns = ['Gener', 'Year'])\n",
    "    \n",
    "    print(bgpy.head())\n",
    "    bgpy.to_csv('bgpy.csv', index=False)\n",
    "    print(regpy.head())\n",
    "    regpy.to_csv('regpy.csv', index=False)\n",
    "    print(pgpy.head())\n",
    "    pgpy.to_csv('pgpy.csv', index=False)\n",
    "    print(mgpy.head())\n",
    "    mgpy.to_csv('mgpy.csv', index=False)\n",
    "    \n",
    "\n",
    "def calculate_details(productionCompanyName, generName):\n",
    "#     Function to calculate both Gener and Production company details.\n",
    "    productionCompanyId = 0\n",
    "    for i, data in production.iterrows():\n",
    "        if productionCompanyName == data.production_company_name:\n",
    "            productionCompanyId = data.production_company_id\n",
    "    if productionCompanyId == 0:\n",
    "        print('No company found')\n",
    "    else:\n",
    "        print(productionCompanyName +': '+str(productionCompanyId))\n",
    "        productionCompanySummary(productionCompanyId, productionCompanyName)\n",
    "\n",
    "    generId = 0\n",
    "    for i, data in gener.iterrows():\n",
    "        if generName == data.gener_name:\n",
    "            generId = data.gener_id\n",
    "    if generId == 0:\n",
    "        print('No gener found')\n",
    "    else:\n",
    "        print(generName +': '+str(generId))\n",
    "        generSummary(generId, generName)\n",
    "\n",
    "# User input of Company and Gener names.\n",
    "productionCompanyName = 'Pixar Animation Studios'\n",
    "generName = 'Animation'\n",
    "\n",
    "calculate_details(productionCompanyName,generName)"
   ]
  },
  {
   "cell_type": "markdown",
   "metadata": {
    "deletable": false,
    "pycharm": {
     "name": "#%% md\n"
    }
   },
   "source": [
    "<h2>Question 4 (15 points)</h2>\n",
    "\n",
    "<p>Implement a function that takes a movie&rsquo;s IMDB id as an input and returns the following dictionary:</p>\n",
    "<ul>\n",
    "<li>Key: The number of users who voted for the movie</li>\n",
    "<li>Value: The average rating of the movie by those users</li>\n",
    "</ul>\n",
    "\n",
    "<p style=\"text-align: justify;\">Make sure that you are using your designed database in Question 1 here.</p>\n",
    "\n",
    "<p style=\"text-align: justify;\"><strong>Hint:</strong> To write the rating function, you need to work on links_small, rating_small files with the movies_metadata.csv to connect these tables.</p>"
   ]
  },
  {
   "cell_type": "code",
   "execution_count": 15,
   "metadata": {
    "pycharm": {
     "name": "#%%\n"
    }
   },
   "outputs": [
    {
     "name": "stdout",
     "output_type": "stream",
     "text": [
      "{13: 2.3846153846153846}\n"
     ]
    }
   ],
   "source": [
    "# write your code here\n",
    "\n",
    "def averageRating(imdb_id):\n",
    "    movie_id = 0\n",
    "    for i, data in linksDataFrame.iterrows():\n",
    "        if data.imdb_id == imdb_id:\n",
    "            movie_id = data.movie_id\n",
    "#             Finding the correct movie ID for the given IMDB IS\n",
    "    if movie_id == 0:\n",
    "        print('No IMDB ID found')\n",
    "        return {}\n",
    "    else:\n",
    "#         Extracting the ratings of that movie and calculating the mean(Average)\n",
    "        ratings = ratingsDataFrame[ratingsDataFrame['movie_id']==movie_id]\n",
    "        avgRating = ratings['ratings'].mean()\n",
    "        users = len(ratings.index)\n",
    "        return {users: avgRating}\n",
    "print(averageRating(114885))"
   ]
  },
  {
   "cell_type": "markdown",
   "metadata": {
    "pycharm": {
     "name": "#%% md\n"
    }
   },
   "source": [
    "<h2>Question 5 (10 points)</h2>\n",
    "\n",
    "Answer the following questions:\n",
    "<ul>\n",
    "<li>Q1: How many cuboids are in a 3-dimensional cube with 2 levels? (Write the formula).</li>\n",
    "<li>Q2: Provide a case of hierarchical structure and draw it. Example: Page 22 of the \"Data Warehousing & OLAP\" lecture.</li>\n",
    "</ul>"
   ]
  },
  {
   "cell_type": "markdown",
   "metadata": {
    "pycharm": {
     "name": "#%% md\n"
    }
   },
   "source": [
    "<p><span style=\"color: #ff0000;\"><strong>-- Write your answers here --</strong></span></p>\n",
    "Q1:\n",
    "<p>\n",
    "Ans: If the cube has n(3) dimensions and each dimension has L(2) levels, the total number of cuboids that can be generated is \n",
    "total number of cuboids =<img src=\"5a.png\" width=\"60\" \n",
    "     height=\"40\">\n",
    "\n",
    "total number of cuboids = (2+1)^3 = 27\n",
    "    </p>\n",
    "\n",
    "Q2:  <img src=\"5b.png\" width=\"600\" \n",
    "     height=\"400\">\n",
    "\n"
   ]
  },
  {
   "cell_type": "markdown",
   "metadata": {
    "deletable": false,
    "editable": false,
    "pycharm": {
     "name": "#%% md\n"
    }
   },
   "source": [
    "<h3>Coding Considerations</h3>\n",
    "<p style=\"text-align: justify;\">You must consider the following in your implementations:</p>\n",
    "<ul>\n",
    "<li class=\"a\"><span> You are allowed to use your desired Python libraries in this assignment. </span>\n",
    "<li class=\"a\"><span> The output CSV files should be generated in the same directory of your code when you run it. Use the naming provided in the Implementation section. </span>\n",
    "<li class=\"a\"><span> You should write your code in this Jupyter Notebook (*.ipynb) file which can generate the required reports itself.</span>\n",
    "<li class=\"a\"><span> Your code should be self-explanatory. Make sure you add comments and your output files are formatted correctly. You might lose up to 30 points for bad code quality (readability, modularity, comments, efficiency, etc.) and formatting of the output files.</span></li>\n",
    "</ul>"
   ]
  },
  {
   "cell_type": "markdown",
   "metadata": {
    "deletable": false,
    "editable": false,
    "pycharm": {
     "name": "#%% md\n"
    }
   },
   "source": [
    "<h2>Submission</h2>\n",
    "<p style=\"text-align: justify;\">Your python file or Jupyter Notebook file must generate all the abovementioned reports when you run it. If you use any specific library to run your code, add documentation.</p>\n",
    "<p style=\"text-align: justify;\">You need to submit a Jupyter Notebook (*.ipynb) file of your code, meeting the above requirements, in Canvas. <span style=\"background-color: #ffff99;\">The file name should be in <strong>FirstName_LastName</strong> format</span>.</p>\n",
    "<p style=\"text-align: justify;\"><span style=\"background-color: #ffff99;\">DO NOT INCLUDE EXTRA FILES, SUCH AS THE INPUT DATASETS</span>, in your submission; Unless you are sending a picture for Question 1.</p>\n",
    "<p style=\"text-align: justify;\">Please download your assignment after submission and make sure it is not corrupted or empty! We will not be responsible for corrupted submissions and will not take a resubmission after the deadline.</p>"
   ]
  },
  {
   "cell_type": "markdown",
   "metadata": {
    "pycharm": {
     "name": "#%% md\n"
    }
   },
   "source": [
    "<h2>Need Help?</h2>\n",
    "<p>If you need help with this assignment, please get in touch with TAs (on MS Teams or via email or go to their office hours.</p>\n",
    "<p>&nbsp;</p>\n",
    "<p>You are highly encouraged to ask your question on the designated channel for Assignment 2 on Microsoft Teams (not necessarily monitored by the instructor/TA). Feel free to help other students with general questions. However, DO NOT share your solution.</p>"
   ]
  }
 ],
 "metadata": {
  "celltoolbar": "Edit Metadata",
  "kernelspec": {
   "display_name": "Python 3 (ipykernel)",
   "language": "python",
   "name": "python3"
  },
  "language_info": {
   "codemirror_mode": {
    "name": "ipython",
    "version": 3
   },
   "file_extension": ".py",
   "mimetype": "text/x-python",
   "name": "python",
   "nbconvert_exporter": "python",
   "pygments_lexer": "ipython3",
   "version": "3.9.12"
  }
 },
 "nbformat": 4,
 "nbformat_minor": 2
}
