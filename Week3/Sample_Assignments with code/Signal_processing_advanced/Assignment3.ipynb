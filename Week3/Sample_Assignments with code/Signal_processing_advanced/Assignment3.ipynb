{
 "cells": [
  {
   "cell_type": "markdown",
   "metadata": {
    "deletable": false,
    "pycharm": {
     "name": "#%% md\n"
    }
   },
   "source": [
    "<h1><strong>CSCI 5455&ndash; Fall 2022</strong></h1>\n",
    "\n",
    "<h2><strong>Assignment 3 - Frequent Pattern Mining</strong></h2>\n",
    "\n",
    "<h3><strong><span style=\"color:#cc3300;\">Due: November 16, 08:59pm </span></strong></h3>\n",
    "\n",
    "<h3><strong>Your name:</strong></h3>"
   ]
  },
  {
   "cell_type": "markdown",
   "metadata": {
    "deletable": false,
    "pycharm": {
     "name": "#%% md\n"
    }
   },
   "source": [
    "<ul>\n",
    "<li style=\"text-align: justify;\">Please note that you must do this assignment&nbsp;<span style=\"color: #cc3300;\"><strong><u>individually</u></strong></span>. Using automatic tools, your code will be checked against other submissions and other existing resources (such as websites and books).</li>\n",
    "<li style=\"text-align: justify;\">This assignment is more extensive and might take longer than previous assignments to finish. <span style=\"color: #339966;\"><strong><u>Please start early on.</u></strong></span></li>\n",
    "<li style=\"text-align: justify;\">Review the lecture notes before starting with this assignment. Then, thoroughly read this document before starting with the implementation or thinking about the solution.</li>\n",
    "<li style=\"text-align: justify;\">If you have technical questions about Python, please Google the error messages and share the error message alongside the solution that got it fixed on Microsoft Teams, as your classmates may run into the same issues.</li>\n",
    "<li style=\"text-align: justify;\">Check Canvas regularly for possible clarifications and updates.</li>\n",
    "<li style=\"text-align: justify;\">There are libraries and scripts for frequent pattern mining, but you are <span style=\"color: #cc3300;\"><strong>prohibited to use these existing resources</strong></span>, which means you <span style=\"color: #cc3300;\"><strong>cannot include public libraries</strong></span>, or <span style=\"color: #cc3300;\"><strong>modify existing programs. Do not import any libraries. All the needed one are already imported for you.</strong></span> since the purpose   of   this   programming   assignment   is   to   help you understand and implement frequent pattern mining algorithms. You need to develop your code from scratch.</li>\n",
    "</ul>\n"
   ]
  },
  {
   "cell_type": "markdown",
   "metadata": {
    "deletable": false,
    "pycharm": {
     "name": "#%% md\n"
    }
   },
   "source": [
    "<h2>Dataset</h2>\n",
    "\n",
    "<p style=\"text-align: justify;\">A dataset is provided with this assignment that contains retail market basket data from an anonymous Belgian retail store. \n",
    "    \n",
    "The retail dataset was originally used in the following paper: <a href=\"http://fimi.uantwerpen.be/data/retail.pdf\">paper link.</a>\n",
    "\n",
    "    \n",
    "Each line in the .txt file shows the items purchased in one transaction (transaction IDs are not provided), and items are separated by a space.    \n",
    "</p>"
   ]
  },
  {
   "cell_type": "markdown",
   "metadata": {
    "deletable": false,
    "pycharm": {
     "name": "#%% md\n"
    }
   },
   "source": [
    "<h2>Implementation</h2>\n",
    "\n",
    "<p style=\"text-align: justify;\">Please consider the following in your implementation:<br>\n",
    "    \n",
    "<ul>\n",
    "\n",
    "<li style=\"text-align: justify;\">You are not allowed to use frequent itemset mining libraries and need to implement your code from scratch. However, you are allowed to use Python built-in functions, such as min, max, average, map, apply, reduce, etc.</li>\n",
    "<li style=\"text-align: justify;\">Ensure that the cells in your Notebook are ordered correctly so that the “run all” option can run all cells without running to dependency issues.</li>\n",
    "</ul>\n",
    "\n",
    "<span style=\"text-align: justify;\"><strong><u>Hint</u></strong> Running the code with the provided dataset may take a long time. Moreover, verifying the correctness of your code with the provided dataset is not easy since it contains many transactions. Therefore, you should use a small dataset with a few transactions during the implementation to test your code fast and verify the results. However, note that you may obtain correct results for a small dataset, even though your code may have bugs, so eventually, you should try your code with the larger dataset.\n",
    "</span>\n",
    "</p>"
   ]
  },
  {
   "cell_type": "code",
   "execution_count": 1,
   "metadata": {
    "deletable": false,
    "pycharm": {
     "name": "#%%\n"
    }
   },
   "outputs": [],
   "source": [
    "import matplotlib.pyplot as plt\n",
    "import collections\n",
    "import math\n",
    "from itertools import combinations\n",
    "import time\n",
    "import csv\n",
    "import itertools\n",
    "import numpy as np\n",
    "import pandas as pd\n",
    "from mlxtend.preprocessing import TransactionEncoder\n",
    "from mlxtend.frequent_patterns import fpgrowth\n",
    "\n",
    "\n",
    "dataset_name =   'retail.txt'     # dataset_name: that is the dataset name (such as dataset.txt)\n",
    "patterns_path =  'patterns.csv'   # the file name that will store the frequent patterns\n",
    "negative_path = 'negative.csv'    # the file name that will store the negatively correlated items\n",
    "rules_path =     'rules.csv'      # the file name that will store the maximal patterns\n",
    "maximal_path =   'maximal.csv'    # the file name that will store the association rules\n",
    "min_support =     0.0015          # minimum support threshold which is in percentage format (for example 0.2 means 20%)\n",
    "min_confidence =  0.9             # the minimum confidence threshold in the percentage format"
   ]
  },
  {
   "cell_type": "markdown",
   "metadata": {
    "pycharm": {
     "name": "#%% md\n"
    }
   },
   "source": [
    "<p>Note that in the rest of this Notebook, support count refers to the raw frequency (i.e., the number of times an itemsets occurs in a database), while support is the normalized support count which is equal to $\\frac{\\text{support count}}{\\text{the number of transactions}}$ </p>"
   ]
  },
  {
   "cell_type": "markdown",
   "metadata": {
    "deletable": false,
    "pycharm": {
     "name": "#%% md\n"
    }
   },
   "source": [
    "<h2>Implement the FP-Growth Algorithm (30 Points)</h2>\n",
    "\n",
    "<p style=\"text-align: justify;\">Implement the FP-Growth algorithm, as discussed in the lecture notes. Display the total execution time, and the total number of frequent patterns in the following format (the provided values are hypothetical):\n",
    "\n",
    "    Execution time: 20 seconds\n",
    "    Frequent itemsets: 10,123\n",
    "    \n",
    "Each line must contain one pattern, its support count, and support. For example, the pattern A-B-C with support count 4 and support 0.5 must be saved in one line as A-B-C,4,0.5 in the <i><u>patterns.csv</u></i> file.\n",
    "</p>"
   ]
  },
  {
   "cell_type": "code",
   "execution_count": 15,
   "metadata": {
    "pycharm": {
     "name": "#%%\n"
    }
   },
   "outputs": [],
   "source": [
    "from collections import defaultdict\n",
    "from itertools import chain, combinations\n",
    "\n",
    "def fpgrowth(items, minSupRatio,minConf):\n",
    "    freq = [1 for _ in range(len(items))]\n",
    "    minSup = len(items) * minSupRatio    \n",
    "    headerTable = defaultdict(int)\n",
    "    for idx, itemSet in enumerate(items):\n",
    "        for item in itemSet:\n",
    "            headerTable[item] += freq[idx]\n",
    "    headerTable = dict((item, sup) for item, sup in headerTable.items() if sup >= minSup)\n",
    "    if(len(headerTable) == 0):\n",
    "        return None, None\n",
    "    for item in headerTable:\n",
    "        headerTable[item] = [headerTable[item], None]\n",
    "    fpTree = Node('Null', 1, None)\n",
    "    for idx, itemSet in enumerate(items):\n",
    "        itemSet = [item for item in itemSet if item in headerTable]\n",
    "        itemSet.sort(key=lambda item: headerTable[item][0], reverse=True)\n",
    "        currentNode = fpTree\n",
    "        for item in itemSet:\n",
    "            currentNode = updateTree(item, currentNode, headerTable, freq[idx])\n",
    "    freqItems = []\n",
    "    rules=[]\n",
    "    if(fpTree == None):\n",
    "        print('There are no frequent item set available')\n",
    "    else:\n",
    "        mineTree(headerTable, minSup, set(), freqItems)\n",
    "        rules = associationRule(freqItems, item, minConf)\n",
    "    return freqItems,rules\n",
    "\n",
    "class Node:\n",
    "    def __init__(self, itemName, freq, parentNode):\n",
    "        self.itemName = itemName\n",
    "        self.count = freq\n",
    "        self.parent = parentNode\n",
    "        self.children = {}\n",
    "        self.next = None\n",
    "    def increment(self, freq):\n",
    "        self.count += freq\n",
    "\n",
    "def constructTree(items, freq, minSup):\n",
    "    headerTable = defaultdict(int)\n",
    "    for idx, itemSet in enumerate(items):\n",
    "        for item in itemSet:\n",
    "            headerTable[item] += freq[idx]\n",
    "    headerTable = dict((item, sup) for item, sup in headerTable.items() if sup >= minSup)\n",
    "    if(len(headerTable) == 0):\n",
    "        return None, None\n",
    "    for item in headerTable:\n",
    "        headerTable[item] = [headerTable[item], None]\n",
    "    fpTree = Node('Null', 1, None)\n",
    "    for idx, itemSet in enumerate(items):\n",
    "        itemSet = [item for item in itemSet if item in headerTable]\n",
    "        itemSet.sort(key=lambda item: headerTable[item][0], reverse=True)\n",
    "        currentNode = fpTree\n",
    "        for item in itemSet:\n",
    "            currentNode = updateTree(item, currentNode, headerTable, freq[idx])\n",
    "    return fpTree, headerTable\n",
    "\n",
    "def updateTree(item, treeNode, headerTable, freq):\n",
    "    if item in treeNode.children:\n",
    "        treeNode.children[item].increment(freq)\n",
    "    else:\n",
    "        newItemNode = Node(item, freq, treeNode)\n",
    "        treeNode.children[item] = newItemNode\n",
    "        if(headerTable[item][1] == None):\n",
    "            headerTable[item][1] = newItemNode\n",
    "        else:\n",
    "            currentNode = headerTable[item][1]\n",
    "            while currentNode.next != None:\n",
    "                currentNode = currentNode.next\n",
    "            currentNode.next = newItemNode\n",
    "    return treeNode.children[item]\n",
    "\n",
    "def ascendFPtree(node, prefixPath):\n",
    "    if node.parent != None:\n",
    "        prefixPath.append(node.itemName)\n",
    "        ascendFPtree(node.parent, prefixPath)\n",
    "\n",
    "def mineTree(headerTable, minSup, preFix, freqItemList):\n",
    "    sortedItemList = [item[0] for item in sorted(list(headerTable.items()), key=lambda p:p[1][0])] \n",
    "    for item in sortedItemList:  \n",
    "        newFreqSet = preFix.copy()\n",
    "        newFreqSet.add(item)\n",
    "        freqItemList.append(newFreqSet)\n",
    "        treeNode = headerTable[item][1] \n",
    "        condPats = []\n",
    "        freq = []\n",
    "        while treeNode != None:\n",
    "            prefixPath = []\n",
    "            ascendFPtree(treeNode, prefixPath)  \n",
    "            if len(prefixPath) > 1:\n",
    "                condPats.append(prefixPath[1:])\n",
    "                freq.append(treeNode.count)\n",
    "            treeNode = treeNode.next \n",
    "        conditionalTree, newHeaderTable = constructTree(condPats, freq, minSup) \n",
    "        if newHeaderTable != None:\n",
    "            mineTree(newHeaderTable, minSup,\n",
    "                       newFreqSet, freqItemList)\n",
    "            \n",
    "def associationRule(freqItemSet, itemSetList, minConf):\n",
    "    rules = []\n",
    "    for itemSet in freqItemSet:\n",
    "        subsets =powerset(itemSet)\n",
    "        itemSetSup = getSupport(itemSet, itemSetList)\n",
    "        for s in subsets:\n",
    "            confidence = float(itemSetSup / getSupport(s, itemSetList))\n",
    "            if(confidence > minConf):\n",
    "                rules.append([set(s), set(itemSet.difference(s)), confidence])\n",
    "    return rules\n",
    "\n",
    "def powerset(s):\n",
    "    return chain.from_iterable(combinations(s, r) for r in range(1, len(s)))\n",
    "\n",
    "def getSupport(testSet, itemSetList):\n",
    "    count = 0\n",
    "    for itemSet in itemSetList:\n",
    "        if(set(testSet).issubset(itemSet)):\n",
    "            count += 1\n",
    "    return 1 if (count==0) else count"
   ]
  },
  {
   "cell_type": "code",
   "execution_count": 16,
   "metadata": {},
   "outputs": [],
   "source": [
    "open(patterns_path, \"w\").close()\n",
    "open(maximal_path, \"w\").close()\n",
    "open(rules_path, \"w\").close()\n",
    "candidates_total = 0\n",
    "freq_total = 0\n",
    "time_total = 0\n",
    "list1=[]\n",
    "list11 = []\n",
    "list2=[]\n",
    "line_count=0\n",
    "\n",
    "with open(dataset_name) as f:\n",
    "    for line in f:\n",
    "        line_count = line_count+1\n",
    "        data1 = [str(x) for x in line.split(sep=\" \")[:-1]]\n",
    "        list1.append(data1)\n",
    "        if(line_count>2000):\n",
    "            break\n",
    "total_transactions = line_count\n",
    "\n",
    "list2=list(itertools.chain(*list1))\n",
    "unique_items= []\n",
    "unique_items= np.unique(list2)\n",
    "\n",
    "index0 = []\n",
    "index1 = []\n",
    "for i in range(0,len(unique_items)):\n",
    "    index0 = []\n",
    "    for j in range(0,len(list1)):\n",
    "        if list1[j].count(unique_items[i]) > 0:\n",
    "            index0.append(j)\n",
    "    index1.append(index0)\n",
    "dict1 = dict(zip(unique_items,index1))\n"
   ]
  },
  {
   "cell_type": "code",
   "execution_count": 17,
   "metadata": {},
   "outputs": [
    {
     "name": "stdout",
     "output_type": "stream",
     "text": [
      "Execution time: 0.73 seconds\n",
      "Frequent itemsets: 3944\n"
     ]
    }
   ],
   "source": [
    "start1 = time.time()\n",
    "freqItemSet, rules = fpgrowth(list1, min_support,min_confidence)\n",
    "# print((freqItemSet))\n",
    "fis=[]\n",
    "for f in freqItemSet:\n",
    "    l=[]\n",
    "    for s in f:\n",
    "        l.append(s)\n",
    "    fis.append(l)\n",
    "freqItemSet = fis\n",
    "elapsed_time = (round(time.time() - start1,2))\n",
    "\n",
    "print(\"Execution time: \"+str(elapsed_time) + \" seconds\")\n",
    "print(\"Frequent itemsets: \"+ str(len(freqItemSet)))"
   ]
  },
  {
   "cell_type": "code",
   "execution_count": 18,
   "metadata": {},
   "outputs": [],
   "source": [
    "for i in range(len(freqItemSet)):\n",
    "    l=0\n",
    "    for j in range(len(freqItemSet[i])):\n",
    "        l+=len(dict1[freqItemSet[i][j]])\n",
    "    if((l/total_transactions) > min_support):\n",
    "        fre=''\n",
    "        for fr in range(len(freqItemSet[i])):\n",
    "            if(fr!=0):\n",
    "                fre=fre+\"-\" +freqItemSet[i][fr]\n",
    "            else:\n",
    "                fre=fre +freqItemSet[i][fr]\n",
    "        line = fre + \",\"+str(l)+\",\"+str(round(l/total_transactions,6))\n",
    "        f = open(patterns_path,\"a\") #writing into file\n",
    "        f.write(line+\"\\n\")\n",
    "        f.close()\n",
    "    else:\n",
    "        continue"
   ]
  },
  {
   "cell_type": "markdown",
   "metadata": {
    "pycharm": {
     "name": "#%% md\n"
    }
   },
   "source": [
    "<h2>Find the negative correlated itemsets (10 Points)</h2>\n",
    "\n",
    "<p style=\"text-align: justify;\">Find the items (with length 1) that are negatively correlated among all the generated frequent items. Two frequent items, X and Y, are negatively correlated if:\n",
    "support{X,Y} $\\lt$ support{X} * support{Y}. Hint: Find the frequent items (length 1) in your patterns.csv file; then for each item you have, using the negatively correlated items' formula find the negatively correlated items for it. </p>\n",
    "\n",
    "<p style=\"text-align: justify;\">\n",
    "Each line in your <i>negative.csv</i> output file must contain two items.\n",
    "</p>\n"
   ]
  },
  {
   "cell_type": "code",
   "execution_count": 19,
   "metadata": {
    "pycharm": {
     "name": "#%%\n"
    }
   },
   "outputs": [],
   "source": [
    "# write the code to find the negatively correlated items here\n",
    "# you can insert more cells below, if needed\n",
    "singleFreqItems = {}\n",
    "lines={}\n",
    "with open(patterns_path) as p:\n",
    "    for line in p:\n",
    "        itemsList = (line.split(\",\")[0]).split(\"-\")\n",
    "        lines[itemsList[0]]=line.split(\",\")[2]\n",
    "        if(len(itemsList)==1):\n",
    "            singleFreqItems[itemsList[0]]=line.split(\",\")[2]\n",
    "#             print(line)\n",
    "\n",
    "\n",
    "def getCombi(j,k):\n",
    "    key = str(j)+\"-\"+str(k)\n",
    "    if(key in lines):\n",
    "        return float(lines[key])\n",
    "    return 0.00\n",
    "\n",
    "\n",
    "\n",
    "for j in singleFreqItems:\n",
    "    for k in singleFreqItems:\n",
    "        if((j!=k and getCombi(j,k)) < (float(singleFreqItems.get(j))*float(singleFreqItems.get(k))) ):\n",
    "#             print(f' {j} {k}')\n",
    "            data = str(j)+\",\"+str(k)\n",
    "            f = open(negative_path,\"a\")\n",
    "            f.write(data+\"\\n\")\n",
    "            f.close()"
   ]
  },
  {
   "cell_type": "markdown",
   "metadata": {
    "deletable": false,
    "pycharm": {
     "name": "#%% md\n"
    }
   },
   "source": [
    "<h2>Find Maximal Itemsets (20 Points)</h2>\n",
    "\n",
    "<p style=\"text-align: justify;\">Find the maximal itemset among all the generated frequent patterns. You do not need to implement a maximal itemset mining algorithm (such as the Charm algorithm that allows for mining maximal itemsets without mining the frequent itemsets). Instead, you can simply iterate through the frequent itemsets and identify the maximal ones.\n",
    "\n",
    "<p style=\"text-align: justify;\">Finally, display the number of maximal patterns and the compression ratio in the following format (the provided values are hypothetical):\n",
    "\n",
    "    Frequent itemsets: 10,000\n",
    "    Maximal patterns: 1,500\n",
    "    Compression ratio: 85%\n",
    "\n",
    "As before, each line in your <i>maximal.csv</i> output file must contain one pattern, its support count, and support.\n",
    "</p>\n",
    "\n",
    "\n",
    "<p style=\"text-align: justify;\"><strong>Hint</strong>: Iterate through the frequent itemsets with the reverse order that were mined in the previous step, i.e., from the longest itemset(s) to shorter one(s). </p>\n"
   ]
  },
  {
   "cell_type": "code",
   "execution_count": 28,
   "metadata": {
    "pycharm": {
     "name": "#%%\n"
    }
   },
   "outputs": [
    {
     "name": "stdout",
     "output_type": "stream",
     "text": [
      "Frequent itemsets: 1110\n",
      "Maximal patterns: 1110\n",
      "Compression ratio: 100.0%\n"
     ]
    }
   ],
   "source": [
    "def getMaximalItemSets(items,minSupport):\n",
    "    maxSets={}\n",
    "    \n",
    "    for j in singleFreqItems:\n",
    "        isMax=True\n",
    "        for k in singleFreqItems:\n",
    "            if(j!=k and set(k).issuperset(set(j)) and lines[k]==int(minSupport*total_transactions)):\n",
    "                isMax=False\n",
    "        if(isMax):\n",
    "            maxSets[j]=lines[j]\n",
    "            l=len(dict1[j])\n",
    "            data = str(j)+\",\"+str(float(lines[j]))+\",\"+str(round((l/total_transactions),6))\n",
    "            f = open(maximal_path,\"a\")\n",
    "            f.write(data+\"\\n\")\n",
    "            f.close()\n",
    "    return maxSets\n",
    "    \n",
    "maxSets = getMaximalItemSets(lines,min_support)\n",
    "\n",
    "lenOfPatters=len(lines)\n",
    "lenOfMaxSets=len(maxSets)\n",
    "compressionRation=(lenOfMaxSets/lenOfPatters)*100\n",
    "\n",
    "print(f'Frequent itemsets: {lenOfPatters}')\n",
    "print(f'Maximal patterns: {lenOfMaxSets}')\n",
    "print(f'Compression ratio: {compressionRation}%')\n"
   ]
  },
  {
   "cell_type": "markdown",
   "metadata": {
    "deletable": false,
    "pycharm": {
     "name": "#%% md\n"
    }
   },
   "source": [
    "<h2>Mine the Association Rules (25 Points)</h2>\n",
    "\n",
    "\n",
    "<p style=\"text-align: justify;\">Implement association rule mining to generate strong association rules from the frequent itemsets generated in Step 1 using the below algorithm. Display the confidence for the top 20 rules with the highest confidence. Moreover, report the execution time as well as the number of strong rules in the following format (the provided values are hypothetical): </p>\n",
    "    \n",
    "    Execution time: 12 secodns \n",
    "    Strong rules: 2,300\n",
    "    Rule 1: A=>B,C, conf = 0.43\n",
    "    Rule 2: X=>Y, conf = 0.40\n",
    "\n",
    "Each line in the <i>rules.csv</i> file must contain one rule alongside its support count, support, confidence, and lift. For example, A-B=>C,4,0.5,0.2,0.8 shows the support count, support, and confidence for the rule A-B=>C."
   ]
  },
  {
   "cell_type": "code",
   "execution_count": 22,
   "metadata": {},
   "outputs": [],
   "source": [
    "def getAllSupport(key):\n",
    "    if(key in lines):\n",
    "        return float(lines[key])\n",
    "    return 0.00\n",
    "\n",
    "def getSupportA(s,sep):\n",
    "    l = s.split(sep)\n",
    "    key=''\n",
    "    for i in range(len(l)):\n",
    "        if(i!=0):\n",
    "            key=key+\"-\"+l[i]\n",
    "        else:\n",
    "            key+=l[i]\n",
    "    return getAllSupport(key)"
   ]
  },
  {
   "cell_type": "code",
   "execution_count": 32,
   "metadata": {},
   "outputs": [
    {
     "name": "stdout",
     "output_type": "stream",
     "text": [
      "Execution time: 4.17 seconds\n",
      "Strong rules: 13152\n",
      "39=>48,1.587207,1.0,1.0\n",
      "42=>38,1.013993,1.0,1.0\n",
      "\n",
      "38=>42,1.013993,1.0,1.0\n",
      "\n",
      "53=>48,1.447777,1.0,1.0\n",
      "\n",
      "48=>53,1.447777,1.0,1.0\n",
      "\n",
      "75=>39,1.154423,1.0,1.0\n",
      "\n",
      "39=>75,1.154423,1.0,1.0\n",
      "\n",
      "91=>48,2.0239890000000003,1.0,1.0\n",
      "\n",
      "48=>91,2.0239890000000003,1.0,1.0\n",
      "\n",
      "91=>39,1.589206,1.0,1.0\n",
      "\n",
      "39=>91,1.589206,1.0,1.0\n",
      "\n",
      "91=>48-39,1.012994,1.0,1.0\n",
      "\n",
      "48=>91-39,1.010995,1.0,1.0\n",
      "\n",
      "39=>91-48,0.576212,1.0,1.0\n",
      "\n",
      "91-48=>39,0.576212,1.0,1.0\n",
      "\n",
      "91-39=>48,1.010995,1.0,1.0\n",
      "\n",
      "48-39=>91,1.012994,1.0,1.0\n",
      "\n",
      "39=>93,0.5782109999999999,1.0,1.0\n",
      "\n",
      "93=>39,0.5782109999999999,1.0,1.0\n",
      "\n",
      "39=>113,0.5782109999999999,1.0,1.0\n",
      "\n",
      "113=>39,0.5782109999999999,1.0,1.0\n",
      "\n",
      "192=>39,1.154423,1.0,1.0\n",
      "\n"
     ]
    }
   ],
   "source": [
    "start1 = time.time()\n",
    "\n",
    "for r in rules:\n",
    "    for z in range(len(r[0])):\n",
    "        l = list(r[0])\n",
    "        lhs=''\n",
    "        for li in range(len(l)):\n",
    "            if(li==0):\n",
    "                lhs+=l[li]\n",
    "            else:\n",
    "                lhs=lhs+\"-\"+l[li]\n",
    "    for z in range(len(r[1])):\n",
    "        l = list(r[1])\n",
    "        rhs=''\n",
    "        for li in range(len(l)):\n",
    "            if(li==0):\n",
    "                rhs+=l[li]\n",
    "            else:\n",
    "                rhs=rhs+\"-\"+l[li]\n",
    "    headSupport = 1 if float(getSupport(lhs,\"-\"))==0 else float(getSupport(lhs,\"-\"))\n",
    "    body = rhs\n",
    "    lift = float(r[2])/headSupport\n",
    "    data = (lhs+\"=>\"+rhs)+ \",\" + str(float(getSupportA(lhs,\"-\"))+float(getSupportA(rhs,\"-\")) )+\",\"+str(r[2]) + \",\" + str(lift)\n",
    "    f = open(rules_path,\"a\")\n",
    "    f.write(data+\"\\n\")\n",
    "    f.close()\n",
    "#     print(data)\n",
    "elapsed_time = (round(time.time() - start1,2))\n",
    "\n",
    "print(f'Execution time: {elapsed_time} seconds')\n",
    "print(f'Strong rules: {len(rules)}')\n",
    "print(data)\n",
    "\n",
    "c=0\n",
    "with open(rules_path) as p:\n",
    "    for line in p:\n",
    "        print(line)\n",
    "        c+=1\n",
    "        if(c>20):\n",
    "            break\n"
   ]
  },
  {
   "cell_type": "markdown",
   "metadata": {
    "pycharm": {
     "name": "#%% md\n"
    }
   },
   "source": [
    "<h2>Visualization (5 Points)</h2>\n",
    "\n",
    "<p style=\"text-align: justify;\">Draw a scatter plot based on the lift and confidence you saved in the rules.csv file.(x-axis=lift, y-axis=confidence) </p>\n",
    "\n",
    "<p class=\"note\">Note: Make sure the plot has title and axes names.</p>"
   ]
  },
  {
   "cell_type": "code",
   "execution_count": 24,
   "metadata": {
    "pycharm": {
     "name": "#%%\n"
    }
   },
   "outputs": [
    {
     "data": {
      "image/png": "[encoded data removed]",
      "text/plain": [
       "<Figure size 432x288 with 1 Axes>"
      ]
     },
     "metadata": {
      "needs_background": "light"
     },
     "output_type": "display_data"
    }
   ],
   "source": [
    "# write the code to show a scatter plot of the association rules\n",
    "import matplotlib.pyplot as plt\n",
    "x=[]\n",
    "y=[]\n",
    "with open(rules_path) as p:\n",
    "    for line in p:\n",
    "        x.append(float((line.split(\",\")[3])))\n",
    "        y.append(float((line.split(\",\")[2])))\n",
    "\n",
    "plt.scatter(x, y, c =\"blue\")\n",
    "\n",
    "plt.xlabel(\"Lift\")\n",
    "plt.ylabel(\"confidence\")\n",
    "plt.show()"
   ]
  },
  {
   "cell_type": "markdown",
   "metadata": {
    "deletable": false,
    "pycharm": {
     "name": "#%% md\n"
    }
   },
   "source": [
    "<h2>Sensitivity Analysis (10 Points)</h2>\n",
    "\n",
    "\n",
    "<p style=\"text-align: justify;\">Run the frequent pattern mining function with the following values of minimum support and measure the total number of frequent patterns and the execution time. Next, draw three line plots using the matplotlib library that shows how minimum support (the x-axis) affects the runtime and the frequent itemsets (the y-axis). Note that x and y axes must have proper titles.\n",
    "    \n",
    "Minimum support values:\n",
    "    \n",
    "    0.001, 0.002, 0.003, 0.004, 0.005, 0.006, 0.007, 0.008, 0.009, 0.01\n"
   ]
  },
  {
   "cell_type": "code",
   "execution_count": 11,
   "metadata": {
    "pycharm": {
     "name": "#%%\n"
    }
   },
   "outputs": [],
   "source": [
    "# write the code here\n",
    "# you can insert more cells below, if needed\n",
    "\n",
    "minList=[0.001, 0.002, 0.003, 0.004, 0.005, 0.006, 0.007, 0.008, 0.009, 0.01]\n",
    "\n",
    "freqItemSetList=[]\n",
    "timeList=[]\n",
    "for m in minList:\n",
    "    start1 = time.time()\n",
    "    freqItemSet, rules = fpgrowth(list1, m,min_confidence)\n",
    "    elapsed_time = (round(time.time() - start1,2))\n",
    "    timeList.append(elapsed_time)\n",
    "    freqItemSetList.append(len(freqItemSet))\n",
    "\n",
    "\n",
    "\n",
    "    "
   ]
  },
  {
   "cell_type": "code",
   "execution_count": 12,
   "metadata": {},
   "outputs": [
    {
     "data": {
      "image/png": "[encoded data removed]",
      "text/plain": [
       "<Figure size 432x288 with 1 Axes>"
      ]
     },
     "metadata": {
      "needs_background": "light"
     },
     "output_type": "display_data"
    }
   ],
   "source": [
    "plt.plot(minList,freqItemSetList,  linestyle = 'dotted')\n",
    "plt.xlabel(\"minimum support\")\n",
    "plt.ylabel(\"total number of frequent patterns\")\n",
    "plt.show()"
   ]
  },
  {
   "cell_type": "code",
   "execution_count": 13,
   "metadata": {},
   "outputs": [
    {
     "data": {
      "image/png": "[encoded data removed]",
      "text/plain": [
       "<Figure size 432x288 with 1 Axes>"
      ]
     },
     "metadata": {
      "needs_background": "light"
     },
     "output_type": "display_data"
    }
   ],
   "source": [
    "plt.plot(minList,timeList, linestyle = 'dotted')\n",
    "plt.xlabel(\"minimum support\")\n",
    "plt.ylabel(\"execution time\")\n",
    "plt.show()"
   ]
  },
  {
   "cell_type": "code",
   "execution_count": null,
   "metadata": {},
   "outputs": [],
   "source": []
  },
  {
   "cell_type": "markdown",
   "metadata": {
    "deletable": false,
    "pycharm": {
     "name": "#%% md\n"
    }
   },
   "source": [
    "<h3>Coding Considerations</h3>\n",
    "<p style=\"text-align: justify;\">You must consider the following in your implementations:</p>\n",
    "<ul>\n",
    "<li class=\"a\"><span> The output CSV files should be generated in the same directory of your code when you run it. Use the naming provided in the Implementation section. </span>\n",
    "<li class=\"a\"><span> You should write your code in this Jupyter Notebook (*.ipynb) file which can generate the required reports itself.</span>\n",
    "<li class=\"a\"><span> Your code should be self-explanatory. Make sure you add comments and your output files are formatted correctly. You might lose up to 30 points for bad code quality (readability, modularity, comments, efficiency, etc.) and formatting of the output files.</span></li>\n",
    "</ul>"
   ]
  },
  {
   "cell_type": "markdown",
   "metadata": {
    "deletable": false,
    "pycharm": {
     "name": "#%% md\n"
    }
   },
   "source": [
    "<h2>Submission</h2>\n",
    "<p style=\"text-align: justify;\">Your python file or Jupyter Notebook file must generate all the abovementioned reports when you run it.</p>\n",
    "<p style=\"text-align: justify;\">You need to submit a zip file in Canvas, including the following items: \n",
    "\n",
    "<ul>\n",
    "<li class=\"a\"><span> a Jupyter Notebook (*.ipynb) file, named assignment3.ipynb that contains your completed code </span>\n",
    "<li class=\"a\"><span> patterns.csv that contains the frequent patterns</span>\n",
    "<li class=\"a\"><span> negative.csv that contains the negative corelated frequent itemsets.</span>\n",
    "<li class=\"a\"><span> maximal.csv that contains the maximal patterns</span>\n",
    "<li class=\"a\"><span> rules.csv that contains the association rules</span>\n",
    "<li class=\"a\"><span> results.pdf: a pdf file that contains all the requested charts and outputs (only copy the outputs (not the code itself) from your Notebook to this file. Also do not include the patterns and their supports in this file.)</span>\n",
    "    \n",
    "</li>\n",
    "</ul>\n",
    "    \n",
    "<span style=\"background-color: #ffff99;\">The file name should be in <strong>FirstName_LastName</strong> format</span>.</p>\n",
    "<p style=\"text-align: justify;\"><span style=\"background-color: #ffff99;\">DO NOT INCLUDE EXTRA FILES, SUCH AS THE INPUT DATASETS</span>, in your submission;</p>\n",
    "<p style=\"text-align: justify;\">Please download your assignment after submission and make sure it is not corrupted or empty! We will not be responsible for corrupted submissions and will not take a resubmission after the deadline.</p>"
   ]
  },
  {
   "cell_type": "markdown",
   "metadata": {
    "pycharm": {
     "name": "#%% md\n"
    }
   },
   "source": [
    "<h2>Need Help?</h2>\n",
    "<p>If you need help with this assignment, please get in touch with TAs (on MS Teams or via email) or go to their office hours.</p>\n",
    "\n",
    "<p>You are highly encouraged to ask your question on the designated channel for Assignment 3 on Microsoft Teams (not necessarily monitored by the instructor/TAs). Feel free to help other students with general questions. However, DO NOT share your solution.</p>"
   ]
  }
 ],
 "metadata": {
  "celltoolbar": "Edit Metadata",
  "kernelspec": {
   "display_name": "Python 3 (ipykernel)",
   "language": "python",
   "name": "python3"
  },
  "language_info": {
   "codemirror_mode": {
    "name": "ipython",
    "version": 3
   },
   "file_extension": ".py",
   "mimetype": "text/x-python",
   "name": "python",
   "nbconvert_exporter": "python",
   "pygments_lexer": "ipython3",
   "version": "3.9.12"
  }
 },
 "nbformat": 4,
 "nbformat_minor": 2
}
